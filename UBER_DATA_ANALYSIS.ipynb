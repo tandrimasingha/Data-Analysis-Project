{
  "nbformat": 4,
  "nbformat_minor": 0,
  "metadata": {
    "colab": {
      "name": "UBER DATA ANALYSIS.ipynb",
      "provenance": []
    },
    "kernelspec": {
      "name": "python3",
      "display_name": "Python 3"
    },
    "language_info": {
      "name": "python"
    }
  },
  "cells": [
    {
      "cell_type": "code",
      "metadata": {
        "id": "x5jGv8Sg0o1T"
      },
      "source": [
        "import numpy as np\n",
        "import pandas as pd\n",
        "import matplotlib.pyplot as plt\n",
        "import seaborn as sns\n"
      ],
      "execution_count": 1,
      "outputs": []
    },
    {
      "cell_type": "code",
      "metadata": {
        "colab": {
          "base_uri": "https://localhost:8080/",
          "height": 206
        },
        "id": "_18rm0Bh1Eq4",
        "outputId": "7f0dc121-79c7-45cb-c10d-d0b1e96f19b7"
      },
      "source": [
        "df=pd.read_csv('/content/My Uber Drives - 2016.csv')\n",
        "df.head()"
      ],
      "execution_count": 3,
      "outputs": [
        {
          "output_type": "execute_result",
          "data": {
            "text/html": [
              "<div>\n",
              "<style scoped>\n",
              "    .dataframe tbody tr th:only-of-type {\n",
              "        vertical-align: middle;\n",
              "    }\n",
              "\n",
              "    .dataframe tbody tr th {\n",
              "        vertical-align: top;\n",
              "    }\n",
              "\n",
              "    .dataframe thead th {\n",
              "        text-align: right;\n",
              "    }\n",
              "</style>\n",
              "<table border=\"1\" class=\"dataframe\">\n",
              "  <thead>\n",
              "    <tr style=\"text-align: right;\">\n",
              "      <th></th>\n",
              "      <th>START_DATE*</th>\n",
              "      <th>END_DATE*</th>\n",
              "      <th>CATEGORY*</th>\n",
              "      <th>START*</th>\n",
              "      <th>STOP*</th>\n",
              "      <th>MILES*</th>\n",
              "      <th>PURPOSE*</th>\n",
              "    </tr>\n",
              "  </thead>\n",
              "  <tbody>\n",
              "    <tr>\n",
              "      <th>0</th>\n",
              "      <td>1/1/2016 21:11</td>\n",
              "      <td>1/1/2016 21:17</td>\n",
              "      <td>Business</td>\n",
              "      <td>Fort Pierce</td>\n",
              "      <td>Fort Pierce</td>\n",
              "      <td>5.1</td>\n",
              "      <td>Meal/Entertain</td>\n",
              "    </tr>\n",
              "    <tr>\n",
              "      <th>1</th>\n",
              "      <td>1/2/2016 1:25</td>\n",
              "      <td>1/2/2016 1:37</td>\n",
              "      <td>Business</td>\n",
              "      <td>Fort Pierce</td>\n",
              "      <td>Fort Pierce</td>\n",
              "      <td>5.0</td>\n",
              "      <td>NaN</td>\n",
              "    </tr>\n",
              "    <tr>\n",
              "      <th>2</th>\n",
              "      <td>1/2/2016 20:25</td>\n",
              "      <td>1/2/2016 20:38</td>\n",
              "      <td>Business</td>\n",
              "      <td>Fort Pierce</td>\n",
              "      <td>Fort Pierce</td>\n",
              "      <td>4.8</td>\n",
              "      <td>Errand/Supplies</td>\n",
              "    </tr>\n",
              "    <tr>\n",
              "      <th>3</th>\n",
              "      <td>1/5/2016 17:31</td>\n",
              "      <td>1/5/2016 17:45</td>\n",
              "      <td>Business</td>\n",
              "      <td>Fort Pierce</td>\n",
              "      <td>Fort Pierce</td>\n",
              "      <td>4.7</td>\n",
              "      <td>Meeting</td>\n",
              "    </tr>\n",
              "    <tr>\n",
              "      <th>4</th>\n",
              "      <td>1/6/2016 14:42</td>\n",
              "      <td>1/6/2016 15:49</td>\n",
              "      <td>Business</td>\n",
              "      <td>Fort Pierce</td>\n",
              "      <td>West Palm Beach</td>\n",
              "      <td>63.7</td>\n",
              "      <td>Customer Visit</td>\n",
              "    </tr>\n",
              "  </tbody>\n",
              "</table>\n",
              "</div>"
            ],
            "text/plain": [
              "      START_DATE*       END_DATE*  ... MILES*         PURPOSE*\n",
              "0  1/1/2016 21:11  1/1/2016 21:17  ...    5.1   Meal/Entertain\n",
              "1   1/2/2016 1:25   1/2/2016 1:37  ...    5.0              NaN\n",
              "2  1/2/2016 20:25  1/2/2016 20:38  ...    4.8  Errand/Supplies\n",
              "3  1/5/2016 17:31  1/5/2016 17:45  ...    4.7          Meeting\n",
              "4  1/6/2016 14:42  1/6/2016 15:49  ...   63.7   Customer Visit\n",
              "\n",
              "[5 rows x 7 columns]"
            ]
          },
          "metadata": {},
          "execution_count": 3
        }
      ]
    },
    {
      "cell_type": "code",
      "metadata": {
        "colab": {
          "base_uri": "https://localhost:8080/"
        },
        "id": "3xayP4Wj1830",
        "outputId": "a9e0bf50-52c6-4c66-97ae-13fb9d6502fc"
      },
      "source": [
        "df.shape"
      ],
      "execution_count": 4,
      "outputs": [
        {
          "output_type": "execute_result",
          "data": {
            "text/plain": [
              "(1156, 7)"
            ]
          },
          "metadata": {},
          "execution_count": 4
        }
      ]
    },
    {
      "cell_type": "code",
      "metadata": {
        "colab": {
          "base_uri": "https://localhost:8080/"
        },
        "id": "KWHEpNxo1_FL",
        "outputId": "e3a8aa90-47d6-4e51-bc9f-0e431982d0b1"
      },
      "source": [
        "df.size"
      ],
      "execution_count": 5,
      "outputs": [
        {
          "output_type": "execute_result",
          "data": {
            "text/plain": [
              "8092"
            ]
          },
          "metadata": {},
          "execution_count": 5
        }
      ]
    },
    {
      "cell_type": "code",
      "metadata": {
        "colab": {
          "base_uri": "https://localhost:8080/"
        },
        "id": "TUnFtzp62D94",
        "outputId": "7de2ebf4-c3d3-4d27-c45d-93ea7f7ba8b2"
      },
      "source": [
        "df.info()"
      ],
      "execution_count": 6,
      "outputs": [
        {
          "output_type": "stream",
          "name": "stdout",
          "text": [
            "<class 'pandas.core.frame.DataFrame'>\n",
            "RangeIndex: 1156 entries, 0 to 1155\n",
            "Data columns (total 7 columns):\n",
            " #   Column       Non-Null Count  Dtype  \n",
            "---  ------       --------------  -----  \n",
            " 0   START_DATE*  1156 non-null   object \n",
            " 1   END_DATE*    1155 non-null   object \n",
            " 2   CATEGORY*    1155 non-null   object \n",
            " 3   START*       1155 non-null   object \n",
            " 4   STOP*        1155 non-null   object \n",
            " 5   MILES*       1156 non-null   float64\n",
            " 6   PURPOSE*     653 non-null    object \n",
            "dtypes: float64(1), object(6)\n",
            "memory usage: 63.3+ KB\n"
          ]
        }
      ]
    },
    {
      "cell_type": "code",
      "metadata": {
        "colab": {
          "base_uri": "https://localhost:8080/"
        },
        "id": "yfKbr9zn2LRh",
        "outputId": "48c10715-40c7-4ae2-f240-4ca066f7edbf"
      },
      "source": [
        "df.isnull().sum()"
      ],
      "execution_count": 8,
      "outputs": [
        {
          "output_type": "execute_result",
          "data": {
            "text/plain": [
              "START_DATE*      0\n",
              "END_DATE*        1\n",
              "CATEGORY*        1\n",
              "START*           1\n",
              "STOP*            1\n",
              "MILES*           0\n",
              "PURPOSE*       503\n",
              "dtype: int64"
            ]
          },
          "metadata": {},
          "execution_count": 8
        }
      ]
    },
    {
      "cell_type": "code",
      "metadata": {
        "colab": {
          "base_uri": "https://localhost:8080/"
        },
        "id": "_A4ReK9W2Tei",
        "outputId": "f24b5e0e-eb1c-41bb-f182-94738bf93024"
      },
      "source": [
        "df1=df.dropna()\n",
        "df1.isnull().values.any()"
      ],
      "execution_count": 13,
      "outputs": [
        {
          "output_type": "execute_result",
          "data": {
            "text/plain": [
              "False"
            ]
          },
          "metadata": {},
          "execution_count": 13
        }
      ]
    },
    {
      "cell_type": "code",
      "metadata": {
        "colab": {
          "base_uri": "https://localhost:8080/",
          "height": 300
        },
        "id": "WIGZcKDG46ZL",
        "outputId": "3caa7e0d-1af4-49ee-8572-ddea4542a714"
      },
      "source": [
        "df.describe()"
      ],
      "execution_count": 14,
      "outputs": [
        {
          "output_type": "execute_result",
          "data": {
            "text/html": [
              "<div>\n",
              "<style scoped>\n",
              "    .dataframe tbody tr th:only-of-type {\n",
              "        vertical-align: middle;\n",
              "    }\n",
              "\n",
              "    .dataframe tbody tr th {\n",
              "        vertical-align: top;\n",
              "    }\n",
              "\n",
              "    .dataframe thead th {\n",
              "        text-align: right;\n",
              "    }\n",
              "</style>\n",
              "<table border=\"1\" class=\"dataframe\">\n",
              "  <thead>\n",
              "    <tr style=\"text-align: right;\">\n",
              "      <th></th>\n",
              "      <th>MILES*</th>\n",
              "    </tr>\n",
              "  </thead>\n",
              "  <tbody>\n",
              "    <tr>\n",
              "      <th>count</th>\n",
              "      <td>653.000000</td>\n",
              "    </tr>\n",
              "    <tr>\n",
              "      <th>mean</th>\n",
              "      <td>11.196325</td>\n",
              "    </tr>\n",
              "    <tr>\n",
              "      <th>std</th>\n",
              "      <td>22.986429</td>\n",
              "    </tr>\n",
              "    <tr>\n",
              "      <th>min</th>\n",
              "      <td>0.500000</td>\n",
              "    </tr>\n",
              "    <tr>\n",
              "      <th>25%</th>\n",
              "      <td>3.200000</td>\n",
              "    </tr>\n",
              "    <tr>\n",
              "      <th>50%</th>\n",
              "      <td>6.400000</td>\n",
              "    </tr>\n",
              "    <tr>\n",
              "      <th>75%</th>\n",
              "      <td>10.400000</td>\n",
              "    </tr>\n",
              "    <tr>\n",
              "      <th>max</th>\n",
              "      <td>310.300000</td>\n",
              "    </tr>\n",
              "  </tbody>\n",
              "</table>\n",
              "</div>"
            ],
            "text/plain": [
              "           MILES*\n",
              "count  653.000000\n",
              "mean    11.196325\n",
              "std     22.986429\n",
              "min      0.500000\n",
              "25%      3.200000\n",
              "50%      6.400000\n",
              "75%     10.400000\n",
              "max    310.300000"
            ]
          },
          "metadata": {},
          "execution_count": 14
        }
      ]
    },
    {
      "cell_type": "code",
      "metadata": {
        "colab": {
          "base_uri": "https://localhost:8080/"
        },
        "id": "aaR53D3a5zL4",
        "outputId": "ee7e6288-051d-4cfa-bbce-9657671f77e3"
      },
      "source": [
        "start= df['START*'].dropna()\n",
        "un_start=set(start)\n",
        "un_start"
      ],
      "execution_count": 15,
      "outputs": [
        {
          "output_type": "execute_result",
          "data": {
            "text/plain": [
              "{'Apex',\n",
              " 'Arabi',\n",
              " 'Asheville',\n",
              " 'Austin',\n",
              " 'Banner Elk',\n",
              " 'Bellevue',\n",
              " 'Berkeley',\n",
              " 'Boone',\n",
              " 'Briar Meadow',\n",
              " 'Burtrose',\n",
              " 'CBD',\n",
              " 'Capitol One',\n",
              " 'Cary',\n",
              " 'Chalmette',\n",
              " 'Chapel Hill',\n",
              " 'Chessington',\n",
              " 'Colombo',\n",
              " 'Daytona Beach',\n",
              " 'Downtown',\n",
              " 'Durham',\n",
              " 'Eagan Park',\n",
              " 'East Austin',\n",
              " 'East Elmhurst',\n",
              " 'East Harlem',\n",
              " 'Eastgate',\n",
              " 'Edgehill Farms',\n",
              " 'El Cerrito',\n",
              " 'Elmhurst',\n",
              " 'Emeryville',\n",
              " 'Fairmont',\n",
              " 'Farmington Woods',\n",
              " 'Fayetteville Street',\n",
              " 'Financial District',\n",
              " 'Flatiron District',\n",
              " 'Florence',\n",
              " 'Fort Pierce',\n",
              " 'Fuquay-Varina',\n",
              " 'Galveston',\n",
              " 'Gampaha',\n",
              " 'Georgian Acres',\n",
              " 'Gulfton',\n",
              " 'Hazelwood',\n",
              " \"Hell's Kitchen\",\n",
              " 'Heritage Pines',\n",
              " 'Holly Springs',\n",
              " 'Houston',\n",
              " 'Hudson Square',\n",
              " 'Huntington Woods',\n",
              " 'Ingleside',\n",
              " 'Islamabad',\n",
              " 'Jacksonville',\n",
              " 'Jamaica',\n",
              " 'Kar?chi',\n",
              " 'Katunayaka',\n",
              " 'Katunayake',\n",
              " 'Katy',\n",
              " 'Kenner',\n",
              " 'Kilarney Woods',\n",
              " 'Kissimmee',\n",
              " 'Krendle Woods',\n",
              " 'Lahore',\n",
              " 'Lake Reams',\n",
              " 'Lake Wellingborough',\n",
              " 'Latta',\n",
              " 'Lexington Park at Amberly',\n",
              " 'Long Island City',\n",
              " 'Lower Garden District',\n",
              " 'Lower Manhattan',\n",
              " 'Mcvan',\n",
              " 'Medical Centre',\n",
              " 'Menlo Park',\n",
              " 'Meredith',\n",
              " 'Meredith Townes',\n",
              " 'Metairie',\n",
              " 'Midtown',\n",
              " 'Midtown East',\n",
              " 'Morrisville',\n",
              " 'Mountain View',\n",
              " 'New Orleans',\n",
              " 'New York',\n",
              " 'Newark',\n",
              " 'Noorpur Shahan',\n",
              " 'North Austin',\n",
              " 'Northwoods',\n",
              " 'Nugegoda',\n",
              " 'Oakland',\n",
              " 'Old City',\n",
              " 'Orlando',\n",
              " 'Palo Alto',\n",
              " 'Parkway',\n",
              " 'Parkwood',\n",
              " 'Pontchartrain Shores',\n",
              " 'Port Bolivar',\n",
              " 'Preston',\n",
              " 'R?walpindi',\n",
              " 'Raleigh',\n",
              " 'Rawalpindi',\n",
              " 'Redmond',\n",
              " 'Renaissance',\n",
              " 'Ridgeland',\n",
              " 'Rose Hill',\n",
              " 'San Francisco',\n",
              " 'Santa Clara',\n",
              " 'Savon Height',\n",
              " 'Seaport',\n",
              " 'Seattle',\n",
              " 'Sharpstown',\n",
              " 'Soho',\n",
              " 'South Congress',\n",
              " 'Stonewater',\n",
              " 'Storyville',\n",
              " 'Sugar Land',\n",
              " 'Summerwinds',\n",
              " 'Sunnyvale',\n",
              " 'Tanglewood',\n",
              " 'The Drag',\n",
              " 'Topton',\n",
              " 'Townes at Everett Crossing',\n",
              " 'Tribeca',\n",
              " 'University District',\n",
              " 'Unknown Location',\n",
              " 'Washington Avenue',\n",
              " 'Waverly Place',\n",
              " 'Wayne Ridge',\n",
              " 'West Berkeley',\n",
              " 'West Palm Beach',\n",
              " 'West University',\n",
              " 'Weston',\n",
              " 'Westpark Place',\n",
              " 'Whitebridge',\n",
              " 'Winston Salem'}"
            ]
          },
          "metadata": {},
          "execution_count": 15
        }
      ]
    },
    {
      "cell_type": "code",
      "metadata": {
        "colab": {
          "base_uri": "https://localhost:8080/"
        },
        "id": "hsBzGPQX-ugM",
        "outputId": "aede85bd-44c0-4025-d848-7e32df814222"
      },
      "source": [
        "df['START*'].value_counts()"
      ],
      "execution_count": 23,
      "outputs": [
        {
          "output_type": "execute_result",
          "data": {
            "text/plain": [
              "Cary                   161\n",
              "Unknown Location        55\n",
              "Morrisville             54\n",
              "Whitebridge             36\n",
              "Durham                  30\n",
              "                      ... \n",
              "Lower Manhattan          1\n",
              "Mcvan                    1\n",
              "Lake Wellingborough      1\n",
              "Renaissance              1\n",
              "Austin                   1\n",
              "Name: START*, Length: 131, dtype: int64"
            ]
          },
          "metadata": {},
          "execution_count": 23
        }
      ]
    },
    {
      "cell_type": "code",
      "metadata": {
        "colab": {
          "base_uri": "https://localhost:8080/"
        },
        "id": "QnFvbQsz9mCt",
        "outputId": "2df398c7-a141-432d-9ed5-6f32a1b61b7e"
      },
      "source": [
        "len(df['START*'].unique())"
      ],
      "execution_count": 18,
      "outputs": [
        {
          "output_type": "execute_result",
          "data": {
            "text/plain": [
              "131"
            ]
          },
          "metadata": {},
          "execution_count": 18
        }
      ]
    },
    {
      "cell_type": "code",
      "metadata": {
        "colab": {
          "base_uri": "https://localhost:8080/"
        },
        "id": "k6E3Ohxb9yqN",
        "outputId": "7a3b5453-e3a0-4500-eba7-b41c0e06542b"
      },
      "source": [
        "df['STOP*'].value_counts()"
      ],
      "execution_count": 22,
      "outputs": [
        {
          "output_type": "execute_result",
          "data": {
            "text/plain": [
              "Cary                155\n",
              "Morrisville          60\n",
              "Unknown Location     56\n",
              "Whitebridge          37\n",
              "Durham               30\n",
              "                   ... \n",
              "South Congress        1\n",
              "Chapel Hill           1\n",
              "Faubourg Marigny      1\n",
              "Fuquay-Varina         1\n",
              "Northwoods            1\n",
              "Name: STOP*, Length: 137, dtype: int64"
            ]
          },
          "metadata": {},
          "execution_count": 22
        }
      ]
    },
    {
      "cell_type": "code",
      "metadata": {
        "colab": {
          "base_uri": "https://localhost:8080/",
          "height": 423
        },
        "id": "Gwg3MH9H-Gfx",
        "outputId": "0cd954fa-d9cb-4ed3-a0d6-ae850c89cb38"
      },
      "source": [
        "df[df['START*']=='Cary']"
      ],
      "execution_count": 24,
      "outputs": [
        {
          "output_type": "execute_result",
          "data": {
            "text/html": [
              "<div>\n",
              "<style scoped>\n",
              "    .dataframe tbody tr th:only-of-type {\n",
              "        vertical-align: middle;\n",
              "    }\n",
              "\n",
              "    .dataframe tbody tr th {\n",
              "        vertical-align: top;\n",
              "    }\n",
              "\n",
              "    .dataframe thead th {\n",
              "        text-align: right;\n",
              "    }\n",
              "</style>\n",
              "<table border=\"1\" class=\"dataframe\">\n",
              "  <thead>\n",
              "    <tr style=\"text-align: right;\">\n",
              "      <th></th>\n",
              "      <th>START_DATE*</th>\n",
              "      <th>END_DATE*</th>\n",
              "      <th>CATEGORY*</th>\n",
              "      <th>START*</th>\n",
              "      <th>STOP*</th>\n",
              "      <th>MILES*</th>\n",
              "      <th>PURPOSE*</th>\n",
              "    </tr>\n",
              "  </thead>\n",
              "  <tbody>\n",
              "    <tr>\n",
              "      <th>7</th>\n",
              "      <td>1/7/2016 13:27</td>\n",
              "      <td>1/7/2016 13:33</td>\n",
              "      <td>Business</td>\n",
              "      <td>Cary</td>\n",
              "      <td>Cary</td>\n",
              "      <td>0.8</td>\n",
              "      <td>Meeting</td>\n",
              "    </tr>\n",
              "    <tr>\n",
              "      <th>8</th>\n",
              "      <td>1/10/2016 8:05</td>\n",
              "      <td>1/10/2016 8:25</td>\n",
              "      <td>Business</td>\n",
              "      <td>Cary</td>\n",
              "      <td>Morrisville</td>\n",
              "      <td>8.3</td>\n",
              "      <td>Meeting</td>\n",
              "    </tr>\n",
              "    <tr>\n",
              "      <th>28</th>\n",
              "      <td>1/15/2016 11:43</td>\n",
              "      <td>1/15/2016 12:03</td>\n",
              "      <td>Business</td>\n",
              "      <td>Cary</td>\n",
              "      <td>Durham</td>\n",
              "      <td>10.4</td>\n",
              "      <td>Meal/Entertain</td>\n",
              "    </tr>\n",
              "    <tr>\n",
              "      <th>30</th>\n",
              "      <td>1/18/2016 14:55</td>\n",
              "      <td>1/18/2016 15:06</td>\n",
              "      <td>Business</td>\n",
              "      <td>Cary</td>\n",
              "      <td>Cary</td>\n",
              "      <td>4.8</td>\n",
              "      <td>Meal/Entertain</td>\n",
              "    </tr>\n",
              "    <tr>\n",
              "      <th>34</th>\n",
              "      <td>1/20/2016 10:36</td>\n",
              "      <td>1/20/2016 11:11</td>\n",
              "      <td>Business</td>\n",
              "      <td>Cary</td>\n",
              "      <td>Raleigh</td>\n",
              "      <td>17.1</td>\n",
              "      <td>Meeting</td>\n",
              "    </tr>\n",
              "    <tr>\n",
              "      <th>...</th>\n",
              "      <td>...</td>\n",
              "      <td>...</td>\n",
              "      <td>...</td>\n",
              "      <td>...</td>\n",
              "      <td>...</td>\n",
              "      <td>...</td>\n",
              "      <td>...</td>\n",
              "    </tr>\n",
              "    <tr>\n",
              "      <th>1046</th>\n",
              "      <td>12/12/2016 17:51</td>\n",
              "      <td>12/12/2016 18:01</td>\n",
              "      <td>Business</td>\n",
              "      <td>Cary</td>\n",
              "      <td>Morrisville</td>\n",
              "      <td>3.0</td>\n",
              "      <td>Meal/Entertain</td>\n",
              "    </tr>\n",
              "    <tr>\n",
              "      <th>1048</th>\n",
              "      <td>12/13/2016 18:19</td>\n",
              "      <td>12/13/2016 18:29</td>\n",
              "      <td>Business</td>\n",
              "      <td>Cary</td>\n",
              "      <td>Cary</td>\n",
              "      <td>4.2</td>\n",
              "      <td>Errand/Supplies</td>\n",
              "    </tr>\n",
              "    <tr>\n",
              "      <th>1049</th>\n",
              "      <td>12/13/2016 20:20</td>\n",
              "      <td>12/13/2016 20:29</td>\n",
              "      <td>Business</td>\n",
              "      <td>Cary</td>\n",
              "      <td>Cary</td>\n",
              "      <td>4.1</td>\n",
              "      <td>Meal/Entertain</td>\n",
              "    </tr>\n",
              "    <tr>\n",
              "      <th>1052</th>\n",
              "      <td>12/14/2016 17:50</td>\n",
              "      <td>12/14/2016 18:00</td>\n",
              "      <td>Business</td>\n",
              "      <td>Cary</td>\n",
              "      <td>Morrisville</td>\n",
              "      <td>3.0</td>\n",
              "      <td>Meal/Entertain</td>\n",
              "    </tr>\n",
              "    <tr>\n",
              "      <th>1054</th>\n",
              "      <td>12/15/2016 14:20</td>\n",
              "      <td>12/15/2016 14:54</td>\n",
              "      <td>Business</td>\n",
              "      <td>Cary</td>\n",
              "      <td>Morrisville</td>\n",
              "      <td>10.6</td>\n",
              "      <td>Meeting</td>\n",
              "    </tr>\n",
              "  </tbody>\n",
              "</table>\n",
              "<p>161 rows × 7 columns</p>\n",
              "</div>"
            ],
            "text/plain": [
              "           START_DATE*         END_DATE*  ... MILES*         PURPOSE*\n",
              "7       1/7/2016 13:27    1/7/2016 13:33  ...    0.8          Meeting\n",
              "8       1/10/2016 8:05    1/10/2016 8:25  ...    8.3          Meeting\n",
              "28     1/15/2016 11:43   1/15/2016 12:03  ...   10.4   Meal/Entertain\n",
              "30     1/18/2016 14:55   1/18/2016 15:06  ...    4.8   Meal/Entertain\n",
              "34     1/20/2016 10:36   1/20/2016 11:11  ...   17.1          Meeting\n",
              "...                ...               ...  ...    ...              ...\n",
              "1046  12/12/2016 17:51  12/12/2016 18:01  ...    3.0   Meal/Entertain\n",
              "1048  12/13/2016 18:19  12/13/2016 18:29  ...    4.2  Errand/Supplies\n",
              "1049  12/13/2016 20:20  12/13/2016 20:29  ...    4.1   Meal/Entertain\n",
              "1052  12/14/2016 17:50  12/14/2016 18:00  ...    3.0   Meal/Entertain\n",
              "1054  12/15/2016 14:20  12/15/2016 14:54  ...   10.6          Meeting\n",
              "\n",
              "[161 rows x 7 columns]"
            ]
          },
          "metadata": {},
          "execution_count": 24
        }
      ]
    },
    {
      "cell_type": "code",
      "metadata": {
        "colab": {
          "base_uri": "https://localhost:8080/",
          "height": 423
        },
        "id": "e4HHc8BE_vnE",
        "outputId": "5b71c7ec-7533-4958-e106-82d01759315a"
      },
      "source": [
        "df2=pd.DataFrame(df['START*'].value_counts())\n",
        "df2=df2.reset_index()\n",
        "df2=df2.rename(columns={'index':'Start Point','START*':'Count'})\n",
        "df2"
      ],
      "execution_count": 32,
      "outputs": [
        {
          "output_type": "execute_result",
          "data": {
            "text/html": [
              "<div>\n",
              "<style scoped>\n",
              "    .dataframe tbody tr th:only-of-type {\n",
              "        vertical-align: middle;\n",
              "    }\n",
              "\n",
              "    .dataframe tbody tr th {\n",
              "        vertical-align: top;\n",
              "    }\n",
              "\n",
              "    .dataframe thead th {\n",
              "        text-align: right;\n",
              "    }\n",
              "</style>\n",
              "<table border=\"1\" class=\"dataframe\">\n",
              "  <thead>\n",
              "    <tr style=\"text-align: right;\">\n",
              "      <th></th>\n",
              "      <th>Start Point</th>\n",
              "      <th>Count</th>\n",
              "    </tr>\n",
              "  </thead>\n",
              "  <tbody>\n",
              "    <tr>\n",
              "      <th>0</th>\n",
              "      <td>Cary</td>\n",
              "      <td>161</td>\n",
              "    </tr>\n",
              "    <tr>\n",
              "      <th>1</th>\n",
              "      <td>Unknown Location</td>\n",
              "      <td>55</td>\n",
              "    </tr>\n",
              "    <tr>\n",
              "      <th>2</th>\n",
              "      <td>Morrisville</td>\n",
              "      <td>54</td>\n",
              "    </tr>\n",
              "    <tr>\n",
              "      <th>3</th>\n",
              "      <td>Whitebridge</td>\n",
              "      <td>36</td>\n",
              "    </tr>\n",
              "    <tr>\n",
              "      <th>4</th>\n",
              "      <td>Durham</td>\n",
              "      <td>30</td>\n",
              "    </tr>\n",
              "    <tr>\n",
              "      <th>...</th>\n",
              "      <td>...</td>\n",
              "      <td>...</td>\n",
              "    </tr>\n",
              "    <tr>\n",
              "      <th>126</th>\n",
              "      <td>Lower Manhattan</td>\n",
              "      <td>1</td>\n",
              "    </tr>\n",
              "    <tr>\n",
              "      <th>127</th>\n",
              "      <td>Mcvan</td>\n",
              "      <td>1</td>\n",
              "    </tr>\n",
              "    <tr>\n",
              "      <th>128</th>\n",
              "      <td>Lake Wellingborough</td>\n",
              "      <td>1</td>\n",
              "    </tr>\n",
              "    <tr>\n",
              "      <th>129</th>\n",
              "      <td>Renaissance</td>\n",
              "      <td>1</td>\n",
              "    </tr>\n",
              "    <tr>\n",
              "      <th>130</th>\n",
              "      <td>Austin</td>\n",
              "      <td>1</td>\n",
              "    </tr>\n",
              "  </tbody>\n",
              "</table>\n",
              "<p>131 rows × 2 columns</p>\n",
              "</div>"
            ],
            "text/plain": [
              "             Start Point  Count\n",
              "0                   Cary    161\n",
              "1       Unknown Location     55\n",
              "2            Morrisville     54\n",
              "3            Whitebridge     36\n",
              "4                 Durham     30\n",
              "..                   ...    ...\n",
              "126      Lower Manhattan      1\n",
              "127                Mcvan      1\n",
              "128  Lake Wellingborough      1\n",
              "129          Renaissance      1\n",
              "130               Austin      1\n",
              "\n",
              "[131 rows x 2 columns]"
            ]
          },
          "metadata": {},
          "execution_count": 32
        }
      ]
    },
    {
      "cell_type": "code",
      "metadata": {
        "colab": {
          "base_uri": "https://localhost:8080/",
          "height": 423
        },
        "id": "ItYY-36YBXId",
        "outputId": "35f3ea58-014a-4d63-f275-7412a2df4dae"
      },
      "source": [
        "df3=pd.DataFrame(df['STOP*'].value_counts())\n",
        "df3=df3.reset_index()\n",
        "df3=df3.rename(columns={'index':'END Point','STOP*':'Count'})\n",
        "df3"
      ],
      "execution_count": 36,
      "outputs": [
        {
          "output_type": "execute_result",
          "data": {
            "text/html": [
              "<div>\n",
              "<style scoped>\n",
              "    .dataframe tbody tr th:only-of-type {\n",
              "        vertical-align: middle;\n",
              "    }\n",
              "\n",
              "    .dataframe tbody tr th {\n",
              "        vertical-align: top;\n",
              "    }\n",
              "\n",
              "    .dataframe thead th {\n",
              "        text-align: right;\n",
              "    }\n",
              "</style>\n",
              "<table border=\"1\" class=\"dataframe\">\n",
              "  <thead>\n",
              "    <tr style=\"text-align: right;\">\n",
              "      <th></th>\n",
              "      <th>END Point</th>\n",
              "      <th>Count</th>\n",
              "    </tr>\n",
              "  </thead>\n",
              "  <tbody>\n",
              "    <tr>\n",
              "      <th>0</th>\n",
              "      <td>Cary</td>\n",
              "      <td>155</td>\n",
              "    </tr>\n",
              "    <tr>\n",
              "      <th>1</th>\n",
              "      <td>Morrisville</td>\n",
              "      <td>60</td>\n",
              "    </tr>\n",
              "    <tr>\n",
              "      <th>2</th>\n",
              "      <td>Unknown Location</td>\n",
              "      <td>56</td>\n",
              "    </tr>\n",
              "    <tr>\n",
              "      <th>3</th>\n",
              "      <td>Whitebridge</td>\n",
              "      <td>37</td>\n",
              "    </tr>\n",
              "    <tr>\n",
              "      <th>4</th>\n",
              "      <td>Durham</td>\n",
              "      <td>30</td>\n",
              "    </tr>\n",
              "    <tr>\n",
              "      <th>...</th>\n",
              "      <td>...</td>\n",
              "      <td>...</td>\n",
              "    </tr>\n",
              "    <tr>\n",
              "      <th>132</th>\n",
              "      <td>South Congress</td>\n",
              "      <td>1</td>\n",
              "    </tr>\n",
              "    <tr>\n",
              "      <th>133</th>\n",
              "      <td>Chapel Hill</td>\n",
              "      <td>1</td>\n",
              "    </tr>\n",
              "    <tr>\n",
              "      <th>134</th>\n",
              "      <td>Faubourg Marigny</td>\n",
              "      <td>1</td>\n",
              "    </tr>\n",
              "    <tr>\n",
              "      <th>135</th>\n",
              "      <td>Fuquay-Varina</td>\n",
              "      <td>1</td>\n",
              "    </tr>\n",
              "    <tr>\n",
              "      <th>136</th>\n",
              "      <td>Northwoods</td>\n",
              "      <td>1</td>\n",
              "    </tr>\n",
              "  </tbody>\n",
              "</table>\n",
              "<p>137 rows × 2 columns</p>\n",
              "</div>"
            ],
            "text/plain": [
              "            END Point  Count\n",
              "0                Cary    155\n",
              "1         Morrisville     60\n",
              "2    Unknown Location     56\n",
              "3         Whitebridge     37\n",
              "4              Durham     30\n",
              "..                ...    ...\n",
              "132    South Congress      1\n",
              "133       Chapel Hill      1\n",
              "134  Faubourg Marigny      1\n",
              "135     Fuquay-Varina      1\n",
              "136        Northwoods      1\n",
              "\n",
              "[137 rows x 2 columns]"
            ]
          },
          "metadata": {},
          "execution_count": 36
        }
      ]
    },
    {
      "cell_type": "code",
      "metadata": {
        "id": "jGReW9NaCFSe"
      },
      "source": [
        ""
      ],
      "execution_count": 52,
      "outputs": []
    },
    {
      "cell_type": "code",
      "metadata": {
        "colab": {
          "base_uri": "https://localhost:8080/"
        },
        "id": "3CpOiicfCou1",
        "outputId": "fe4c6b00-581d-40b2-c358-9993b7976549"
      },
      "source": [
        "df['MILES*'].groupby(df['PURPOSE*']).sum()"
      ],
      "execution_count": 53,
      "outputs": [
        {
          "output_type": "execute_result",
          "data": {
            "text/plain": [
              "PURPOSE*\n",
              "Airport/Travel       16.5\n",
              "Between Offices     197.0\n",
              "Charity ($)          15.1\n",
              "Commute             180.2\n",
              "Customer Visit     2089.5\n",
              "Errand/Supplies     508.0\n",
              "Meal/Entertain      911.7\n",
              "Meeting            2851.3\n",
              "Moving               18.2\n",
              "Temporary Site      523.7\n",
              "Name: MILES*, dtype: float64"
            ]
          },
          "metadata": {},
          "execution_count": 53
        }
      ]
    },
    {
      "cell_type": "code",
      "metadata": {
        "colab": {
          "base_uri": "https://localhost:8080/",
          "height": 442
        },
        "id": "PC0S1DUJEFk-",
        "outputId": "a0a9e7e9-ff10-4e87-9dc5-9ca3437ac511"
      },
      "source": [
        "plt.figure(figsize=(6,6))\n",
        "sns.distplot(df['MILES*'])\n",
        "plt.show()"
      ],
      "execution_count": 50,
      "outputs": [
        {
          "output_type": "stream",
          "name": "stderr",
          "text": [
            "/usr/local/lib/python3.7/dist-packages/seaborn/distributions.py:2619: FutureWarning: `distplot` is a deprecated function and will be removed in a future version. Please adapt your code to use either `displot` (a figure-level function with similar flexibility) or `histplot` (an axes-level function for histograms).\n",
            "  warnings.warn(msg, FutureWarning)\n"
          ]
        },
        {
          "output_type": "display_data",
          "data": {
            "image/png": "[encoded data removed]",
            "text/plain": [
              "<Figure size 432x432 with 1 Axes>"
            ]
          },
          "metadata": {
            "needs_background": "light"
          }
        }
      ]
    },
    {
      "cell_type": "code",
      "metadata": {
        "colab": {
          "base_uri": "https://localhost:8080/",
          "height": 425
        },
        "id": "OUJb5P8WFwj-",
        "outputId": "aa299a37-1d03-48bf-9997-ccb2e5afcdf1"
      },
      "source": [
        "plt.figure(figsize=(20,6))\n",
        "sns.countplot(df['PURPOSE*'])\n",
        "plt.show()"
      ],
      "execution_count": 56,
      "outputs": [
        {
          "output_type": "stream",
          "name": "stderr",
          "text": [
            "/usr/local/lib/python3.7/dist-packages/seaborn/_decorators.py:43: FutureWarning: Pass the following variable as a keyword arg: x. From version 0.12, the only valid positional argument will be `data`, and passing other arguments without an explicit keyword will result in an error or misinterpretation.\n",
            "  FutureWarning\n"
          ]
        },
        {
          "output_type": "display_data",
          "data": {
            "image/png": "[encoded data removed]",
            "text/plain": [
              "<Figure size 1440x432 with 1 Axes>"
            ]
          },
          "metadata": {
            "needs_background": "light"
          }
        }
      ]
    },
    {
      "cell_type": "code",
      "metadata": {
        "colab": {
          "base_uri": "https://localhost:8080/",
          "height": 296
        },
        "id": "HmjsW7GoGAuy",
        "outputId": "e12fffbf-943a-440f-8f21-0971096e2f2e"
      },
      "source": [
        "df=df.reset_index()\n",
        "sns.barplot(x=df['MILES*'],y=df['PURPOSE*'])"
      ],
      "execution_count": 61,
      "outputs": [
        {
          "output_type": "execute_result",
          "data": {
            "text/plain": [
              "<matplotlib.axes._subplots.AxesSubplot at 0x7f532fd16d90>"
            ]
          },
          "metadata": {},
          "execution_count": 61
        },
        {
          "output_type": "display_data",
          "data": {
            "image/png": "[encoded data removed]",
            "text/plain": [
              "<Figure size 432x288 with 1 Axes>"
            ]
          },
          "metadata": {
            "needs_background": "light"
          }
        }
      ]
    },
    {
      "cell_type": "code",
      "metadata": {
        "colab": {
          "base_uri": "https://localhost:8080/",
          "height": 318
        },
        "id": "wnsrGPBiG0bi",
        "outputId": "29c6d8d3-fea5-4c87-98b3-7e2605670286"
      },
      "source": [
        "df5=pd.DataFrame(df['CATEGORY*'].value_counts())\n",
        "df5.plot(kind='bar', color='crimson')"
      ],
      "execution_count": 65,
      "outputs": [
        {
          "output_type": "execute_result",
          "data": {
            "text/plain": [
              "<matplotlib.axes._subplots.AxesSubplot at 0x7f532f398210>"
            ]
          },
          "metadata": {},
          "execution_count": 65
        },
        {
          "output_type": "display_data",
          "data": {
            "image/png": "[encoded data removed]",
            "text/plain": [
              "<Figure size 432x288 with 1 Axes>"
            ]
          },
          "metadata": {
            "needs_background": "light"
          }
        }
      ]
    }
  ]
}